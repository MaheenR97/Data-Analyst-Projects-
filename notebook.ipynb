-- Run this code to save the CSV file as students
SELECT * 
FROM 'students.csv';
--  Find out the  total count , average todep , average tosc and average toas for interantional students 
select stay, COUNT(*) as count_int, ROUND(AVG(todep), 2) AS average_phq , ROUND(AVG(tosc),2) AS average_scs ,
ROUND(AVG(toas),2) AS average_as
from students
where inter_dom like 'Inter'
group by stay
order by stay DESC
